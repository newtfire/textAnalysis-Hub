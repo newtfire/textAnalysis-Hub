{
 "cells": [
  {
   "cell_type": "markdown",
   "id": "23c621e7650d4943",
   "metadata": {
    "collapsed": false,
    "jupyter": {
     "outputs_hidden": false
    }
   },
   "source": [
    "# Exploring NLP on project XML files \n",
    "Start with imports and installs.\n",
    "You can start on your local computer with a pip install. \n",
    "* Where you've set up your python environment, run `pip install saxonche` or `pip3 install saxonche` as needed.\n",
    "\n",
    "You should be able to run this notebook on your local computer: \n",
    "* Navigate to the Class Examples/Python directory in your Git Bash (Windows) or Terminal (Mac),\n",
    "* Type in `jupyter lab` and press enter\n",
    "* Then open the localhost address you're given in your web browser. "
   ]
  },
  {
   "cell_type": "code",
   "execution_count": 1,
   "id": "initial_id",
   "metadata": {
    "collapsed": false,
    "jupyter": {
     "outputs_hidden": false
    }
   },
   "outputs": [
    {
     "name": "stdout",
     "output_type": "stream",
     "text": [
      "Requirement already satisfied: saxonche in /usr/local/lib/python3.11/site-packages (12.3.0)\n"
     ]
    },
    {
     "name": "stderr",
     "output_type": "stream",
     "text": [
      "/usr/local/lib/python3.11/site-packages/thinc/compat.py:36: UserWarning: 'has_mps' is deprecated, please use 'torch.backends.mps.is_built()'\n",
      "  hasattr(torch, \"has_mps\")\n",
      "/usr/local/lib/python3.11/site-packages/thinc/compat.py:37: UserWarning: 'has_mps' is deprecated, please use 'torch.backends.mps.is_built()'\n",
      "  and torch.has_mps  # type: ignore[attr-defined]\n"
     ]
    }
   ],
   "source": [
    "!pip install saxonche\n",
    "import os\n",
    "import spacy\n",
    "# from spacy.pipeline import EntityRuler\n",
    "# (We used the spacy.pipeline EntityRuler in 2023 to add information to spaCy. \n",
    "# This year we'll try some supervised learning instead. \n",
    "# We'll come back to it and uncomment this if we need it.)\n",
    "import re as regex\n",
    "# re lets us work with regular expressions in Python\n",
    "from saxonche import PySaxonProcessor\n",
    "# You may need to pip install saxonche at the command line if the install doesn't work in the notebook here.\n",
    "# This lets us use Saxon XPath parsers over XML files"
   ]
  },
  {
   "cell_type": "markdown",
   "id": "4204f234-ebbb-4867-9cb2-d3494379b392",
   "metadata": {},
   "source": [
    "Remember the spaCy language models? Let's try loading loading the large one to get the maximum amount of information from it! \n",
    "There's a lot we can experiment with from spaCy, so here's a link to the documentation for our ready reference:\n",
    "<https://spacy.io/usage/spacy-101> \n",
    "\n",
    "We're going to start by just reviewing its POS (part of speech) and NER (named entity recognition) taggers to see what we can see in your project files.\n"
   ]
  },
  {
   "cell_type": "code",
   "execution_count": 2,
   "id": "337c9b20-f094-4cc2-9c51-c9ce642a81b8",
   "metadata": {},
   "outputs": [],
   "source": [
    "# nlp = spacy.cli.download(\"en_core_web_lg\")\n",
    "# ONLY NEED ABOVE LINE ONCE. REMEMBER: COMMENT OUT THE ABOVE LINE THE NEXT TIME YOU RUN THIS.\n",
    "nlp = spacy.load('en_core_web_lg')"
   ]
  },
  {
   "cell_type": "markdown",
   "id": "2d3aa2a5-fef7-40d0-921a-668b9021f09c",
   "metadata": {
    "collapsed": false,
    "jupyter": {
     "outputs_hidden": false
    }
   },
   "source": [
    "Okay, let's explore some project files!\n",
    "We've loaded the XML directory prepared by the Futurama team for our example here. \n",
    "\n",
    "* If you have some basic XML right now, like the Futurama team has prepared, we can easily scope in tagged sections of your collection. Swap out the Futurama collection with yours, and adjust the Python code below accordingly.\n",
    "* If you don't have XML at this point, you can work around this over text files, or just explore the Futurama collection."
   ]
  },
  {
   "cell_type": "code",
   "execution_count": 3,
   "id": "4e5ed67e-3a24-49d0-8a92-526e941ccebc",
   "metadata": {},
   "outputs": [],
   "source": [
    "# DEFINE SOME FILE PATHS FOR INPUT, AND (ONCE WE'RE READY) OUTPUT\n",
    "InputPath = 'futurama-xml'\n",
    "OutputPath = 'testOutput' "
   ]
  },
  {
   "cell_type": "markdown",
   "id": "5842d99e-4b58-4681-aa39-2ff13aaabde0",
   "metadata": {},
   "source": [
    "Now, here are some functions to: \n",
    "* read input files\n",
    "* pull from the XML elements with some simple XPath\n",
    "* run stuff through spaCy's NLP\n",
    "\n",
    "Read (and adapt) the functions in the following cell from the bottom up."
   ]
  },
  {
   "cell_type": "code",
   "execution_count": 5,
   "id": "de59a76b-0af9-42ce-bfca-c15652b69af0",
   "metadata": {},
   "outputs": [
    {
     "ename": "NameError",
     "evalue": "name 'proc' is not defined",
     "output_type": "error",
     "traceback": [
      "\u001b[0;31m---------------------------------------------------------------------------\u001b[0m",
      "\u001b[0;31mNameError\u001b[0m                                 Traceback (most recent call last)",
      "Cell \u001b[0;32mIn[5], line 18\u001b[0m\n\u001b[1;32m     15\u001b[0m             string \u001b[38;5;241m=\u001b[39m \u001b[38;5;28mstr\u001b[39m(xpath)\n\u001b[1;32m     16\u001b[0m             \u001b[38;5;28mprint\u001b[39m(string)        \n\u001b[0;32m---> 18\u001b[0m \u001b[43mreadTextFiles\u001b[49m\u001b[43m(\u001b[49m\u001b[43mInputPath\u001b[49m\u001b[43m)\u001b[49m\n",
      "Cell \u001b[0;32mIn[5], line 8\u001b[0m, in \u001b[0;36mreadTextFiles\u001b[0;34m(InputPath)\u001b[0m\n\u001b[1;32m      6\u001b[0m xml \u001b[38;5;241m=\u001b[39m \u001b[38;5;28mopen\u001b[39m(filepath, encoding\u001b[38;5;241m=\u001b[39m\u001b[38;5;124m'\u001b[39m\u001b[38;5;124mutf-8\u001b[39m\u001b[38;5;124m'\u001b[39m)\u001b[38;5;241m.\u001b[39mread()\n\u001b[1;32m      7\u001b[0m \u001b[38;5;66;03m# ebb: Here we apply the Saxon processor to read files with XPath.\u001b[39;00m\n\u001b[0;32m----> 8\u001b[0m xp \u001b[38;5;241m=\u001b[39m \u001b[43mproc\u001b[49m\u001b[38;5;241m.\u001b[39mnew_xpath_processor()\n\u001b[1;32m      9\u001b[0m node \u001b[38;5;241m=\u001b[39m proc\u001b[38;5;241m.\u001b[39mparse_xml(xml_text\u001b[38;5;241m=\u001b[39mxml)\n\u001b[1;32m     10\u001b[0m xp\u001b[38;5;241m.\u001b[39mset_context(xdm_item\u001b[38;5;241m=\u001b[39mnode)\n",
      "\u001b[0;31mNameError\u001b[0m: name 'proc' is not defined"
     ]
    }
   ],
   "source": [
    "def readTextFiles(InputPath):\n",
    "    # This function uses XPath to read the XML input\n",
    "    for file in os.listdir(InputPath):\n",
    "        if file.endswith('.xml'):\n",
    "            filepath = f\"{InputPath}/{file}\"\n",
    "            with PySaxonProcessor(license=False) as proc:\n",
    "                xml = open(filepath, encoding='utf-8').read()\n",
    "                # ebb: Here we apply the Saxon processor to read files with XPath.\n",
    "                xp = proc.new_xpath_processor()\n",
    "                node = proc.parse_xml(xml_text=xml)\n",
    "                xp.set_context(xdm_item=node)\n",
    "\n",
    "                # From here on, we select the string that Python will send to NLP. \n",
    "                # xpath = xp.evaluate('//your/xpath/here')\n",
    "                xpath = xp.evaluate('(//speak) => string-join()')\n",
    "                string = str(xpath)\n",
    "                print(string)        \n",
    "\n",
    "readTextFiles(InputPath)"
   ]
  },
  {
   "cell_type": "code",
   "execution_count": null,
   "id": "af42a7e8-a9d3-4751-9ed0-d15350658d1a",
   "metadata": {},
   "outputs": [],
   "source": []
  }
 ],
 "metadata": {
  "kernelspec": {
   "display_name": "Python 3 (ipykernel)",
   "language": "python",
   "name": "python3"
  },
  "language_info": {
   "codemirror_mode": {
    "name": "ipython",
    "version": 3
   },
   "file_extension": ".py",
   "mimetype": "text/x-python",
   "name": "python",
   "nbconvert_exporter": "python",
   "pygments_lexer": "ipython3",
   "version": "3.11.1"
  }
 },
 "nbformat": 4,
 "nbformat_minor": 5
}
