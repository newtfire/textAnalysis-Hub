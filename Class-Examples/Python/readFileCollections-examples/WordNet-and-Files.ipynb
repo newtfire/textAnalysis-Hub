{
 "cells": [
  {
   "cell_type": "markdown",
   "id": "43490178-1646-4cba-9119-7b7e724a68c4",
   "metadata": {},
   "source": [
    "# Reading File Directories and Exploring WordNet\n",
    "\n",
    "This notebook provides some guidance on working with file directories for a text corpus. It's also introducing some things we can explore with the WordNet dictionary accessible through NLTK.\n",
    "\n",
    "Read about [Wordnet in Chapter 2, section 5.2](https://www.nltk.org/book/ch02.html#wordnet) of the NLTK book. \n"
   ]
  },
  {
   "cell_type": "code",
   "execution_count": null,
   "id": "4388f1b3-a67c-478d-8acb-dd75d518e36e",
   "metadata": {},
   "outputs": [],
   "source": [
    "# Imports\n",
    "from nltk.corpus import wordnet as wn\n"
   ]
  },
  {
   "cell_type": "code",
   "execution_count": null,
   "id": "e173c67c-f20d-4f9a-b92a-2e4398a767b0",
   "metadata": {},
   "outputs": [],
   "source": [
    "# SMOKE TEST: Explore Wordnet for specific words.\n",
    "wn.synsets('clear')"
   ]
  },
  {
   "cell_type": "markdown",
   "id": "61622953-4ec6-44fc-abda-061246343662",
   "metadata": {},
   "source": [
    "### Look at some synset data from WordNet\n",
    "Choose one of the synsets by its identifier, and lets explore what you can see with it.\n",
    "In the next couple of cells we explore the various lemmas connected to a particular synset for a term."
   ]
  },
  {
   "cell_type": "code",
   "execution_count": null,
   "id": "10a7cb91-26f9-4a68-9471-b2d883adcda5",
   "metadata": {},
   "outputs": [],
   "source": [
    "wn.synset('net.v.02').lemmas()"
   ]
  },
  {
   "cell_type": "code",
   "execution_count": null,
   "id": "141b6b62-a4da-4757-a9b2-179cfbadb6d8",
   "metadata": {},
   "outputs": [],
   "source": [
    "for synset in wn.synsets('clear'):\n",
    "    print(synset.lemma_names(), len(synset.lemma_names()))"
   ]
  },
  {
   "cell_type": "markdown",
   "id": "2432701a-b8d5-4ff0-9be6-3f3002461a14",
   "metadata": {},
   "source": [
    "## Read in some project data from a collection of text files\n",
    "You have a file directory with some text files probably near your Python script. \n",
    "\n"
   ]
  }
 ],
 "metadata": {
  "kernelspec": {
   "display_name": "Python 3 (ipykernel)",
   "language": "python",
   "name": "python3"
  },
  "language_info": {
   "codemirror_mode": {
    "name": "ipython",
    "version": 3
   },
   "file_extension": ".py",
   "mimetype": "text/x-python",
   "name": "python",
   "nbconvert_exporter": "python",
   "pygments_lexer": "ipython3",
   "version": "3.12.9"
  }
 },
 "nbformat": 4,
 "nbformat_minor": 5
}
